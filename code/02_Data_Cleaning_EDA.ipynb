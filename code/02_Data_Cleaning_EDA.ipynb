{
 "cells": [
  {
   "cell_type": "code",
   "execution_count": 1,
   "id": "ef55b493",
   "metadata": {},
   "outputs": [],
   "source": [
    "#Imports\n",
    "import pandas as pd\n",
    "import numpy as np\n",
    "import seaborn as sns\n",
    "import matplotlib.pyplot as plt\n",
    "import re\n",
    "from nltk.corpus import stopwords\n",
    "from nltk.sentiment.vader import SentimentIntensityAnalyzer"
   ]
  },
  {
   "cell_type": "code",
   "execution_count": 2,
   "id": "0e65eff4",
   "metadata": {},
   "outputs": [
    {
     "data": {
      "text/html": [
       "<div>\n",
       "<style scoped>\n",
       "    .dataframe tbody tr th:only-of-type {\n",
       "        vertical-align: middle;\n",
       "    }\n",
       "\n",
       "    .dataframe tbody tr th {\n",
       "        vertical-align: top;\n",
       "    }\n",
       "\n",
       "    .dataframe thead th {\n",
       "        text-align: right;\n",
       "    }\n",
       "</style>\n",
       "<table border=\"1\" class=\"dataframe\">\n",
       "  <thead>\n",
       "    <tr style=\"text-align: right;\">\n",
       "      <th></th>\n",
       "      <th>title</th>\n",
       "      <th>selftext</th>\n",
       "      <th>subreddit</th>\n",
       "      <th>created_utc</th>\n",
       "    </tr>\n",
       "  </thead>\n",
       "  <tbody>\n",
       "    <tr>\n",
       "      <th>0</th>\n",
       "      <td>ELI5 How do hand-cranked mobile shelving units...</td>\n",
       "      <td>I work in an office where these gigantic shelv...</td>\n",
       "      <td>explainlikeimfive</td>\n",
       "      <td>1645817645</td>\n",
       "    </tr>\n",
       "    <tr>\n",
       "      <th>1</th>\n",
       "      <td>ELI5 What made whale oil desirable as opposed ...</td>\n",
       "      <td>Wasn't sure whether to tag this as biology or ...</td>\n",
       "      <td>explainlikeimfive</td>\n",
       "      <td>1645789811</td>\n",
       "    </tr>\n",
       "    <tr>\n",
       "      <th>2</th>\n",
       "      <td>ELI5 how is a transistor such a fast switch</td>\n",
       "      <td>Our CPUs have billions of transistors and each...</td>\n",
       "      <td>explainlikeimfive</td>\n",
       "      <td>1645289010</td>\n",
       "    </tr>\n",
       "    <tr>\n",
       "      <th>3</th>\n",
       "      <td>ELI5 What is CRISPR exactly and how far could ...</td>\n",
       "      <td>[removed]</td>\n",
       "      <td>explainlikeimfive</td>\n",
       "      <td>1645278569</td>\n",
       "    </tr>\n",
       "    <tr>\n",
       "      <th>4</th>\n",
       "      <td>ELI5: Why can't we customize our phone/mobile ...</td>\n",
       "      <td>Like the title says, I love tech but know next...</td>\n",
       "      <td>explainlikeimfive</td>\n",
       "      <td>1645121925</td>\n",
       "    </tr>\n",
       "  </tbody>\n",
       "</table>\n",
       "</div>"
      ],
      "text/plain": [
       "                                               title  \\\n",
       "0  ELI5 How do hand-cranked mobile shelving units...   \n",
       "1  ELI5 What made whale oil desirable as opposed ...   \n",
       "2        ELI5 how is a transistor such a fast switch   \n",
       "3  ELI5 What is CRISPR exactly and how far could ...   \n",
       "4  ELI5: Why can't we customize our phone/mobile ...   \n",
       "\n",
       "                                            selftext          subreddit  \\\n",
       "0  I work in an office where these gigantic shelv...  explainlikeimfive   \n",
       "1  Wasn't sure whether to tag this as biology or ...  explainlikeimfive   \n",
       "2  Our CPUs have billions of transistors and each...  explainlikeimfive   \n",
       "3                                          [removed]  explainlikeimfive   \n",
       "4  Like the title says, I love tech but know next...  explainlikeimfive   \n",
       "\n",
       "   created_utc  \n",
       "0   1645817645  \n",
       "1   1645789811  \n",
       "2   1645289010  \n",
       "3   1645278569  \n",
       "4   1645121925  "
      ]
     },
     "execution_count": 2,
     "metadata": {},
     "output_type": "execute_result"
    }
   ],
   "source": [
    "#Read the data pulled in from the website\n",
    "df = pd.read_csv('../data/complete.csv')\n",
    "df.head()"
   ]
  },
  {
   "cell_type": "code",
   "execution_count": 3,
   "id": "c0764062",
   "metadata": {},
   "outputs": [
    {
     "data": {
      "text/plain": [
       "(1997, 4)"
      ]
     },
     "execution_count": 3,
     "metadata": {},
     "output_type": "execute_result"
    }
   ],
   "source": [
    "#Check for shape of the DataFrame\n",
    "df.shape"
   ]
  },
  {
   "cell_type": "code",
   "execution_count": 4,
   "id": "59412820",
   "metadata": {},
   "outputs": [
    {
     "data": {
      "text/html": [
       "<div>\n",
       "<style scoped>\n",
       "    .dataframe tbody tr th:only-of-type {\n",
       "        vertical-align: middle;\n",
       "    }\n",
       "\n",
       "    .dataframe tbody tr th {\n",
       "        vertical-align: top;\n",
       "    }\n",
       "\n",
       "    .dataframe thead th {\n",
       "        text-align: right;\n",
       "    }\n",
       "</style>\n",
       "<table border=\"1\" class=\"dataframe\">\n",
       "  <thead>\n",
       "    <tr style=\"text-align: right;\">\n",
       "      <th></th>\n",
       "      <th>title</th>\n",
       "      <th>selftext</th>\n",
       "      <th>subreddit</th>\n",
       "      <th>created_utc</th>\n",
       "    </tr>\n",
       "  </thead>\n",
       "  <tbody>\n",
       "    <tr>\n",
       "      <th>0</th>\n",
       "      <td>ELI5 How do hand-cranked mobile shelving units...</td>\n",
       "      <td>I work in an office where these gigantic shelv...</td>\n",
       "      <td>explainlikeimfive</td>\n",
       "      <td>1645817645</td>\n",
       "    </tr>\n",
       "    <tr>\n",
       "      <th>1</th>\n",
       "      <td>ELI5 What made whale oil desirable as opposed ...</td>\n",
       "      <td>Wasn't sure whether to tag this as biology or ...</td>\n",
       "      <td>explainlikeimfive</td>\n",
       "      <td>1645789811</td>\n",
       "    </tr>\n",
       "    <tr>\n",
       "      <th>2</th>\n",
       "      <td>ELI5 how is a transistor such a fast switch</td>\n",
       "      <td>Our CPUs have billions of transistors and each...</td>\n",
       "      <td>explainlikeimfive</td>\n",
       "      <td>1645289010</td>\n",
       "    </tr>\n",
       "    <tr>\n",
       "      <th>3</th>\n",
       "      <td>ELI5 What is CRISPR exactly and how far could ...</td>\n",
       "      <td>[removed]</td>\n",
       "      <td>explainlikeimfive</td>\n",
       "      <td>1645278569</td>\n",
       "    </tr>\n",
       "    <tr>\n",
       "      <th>4</th>\n",
       "      <td>ELI5: Why can't we customize our phone/mobile ...</td>\n",
       "      <td>Like the title says, I love tech but know next...</td>\n",
       "      <td>explainlikeimfive</td>\n",
       "      <td>1645121925</td>\n",
       "    </tr>\n",
       "    <tr>\n",
       "      <th>...</th>\n",
       "      <td>...</td>\n",
       "      <td>...</td>\n",
       "      <td>...</td>\n",
       "      <td>...</td>\n",
       "    </tr>\n",
       "    <tr>\n",
       "      <th>1992</th>\n",
       "      <td>I measured the screw in the calipers and the d...</td>\n",
       "      <td>NaN</td>\n",
       "      <td>AskEngineers</td>\n",
       "      <td>1644800846</td>\n",
       "    </tr>\n",
       "    <tr>\n",
       "      <th>1993</th>\n",
       "      <td>Can some please explain why all four wheels of...</td>\n",
       "      <td>Just trying to understand why all four wheels ...</td>\n",
       "      <td>AskEngineers</td>\n",
       "      <td>1644800765</td>\n",
       "    </tr>\n",
       "    <tr>\n",
       "      <th>1994</th>\n",
       "      <td>Engineers in Ontario. What’s your Field, Exper...</td>\n",
       "      <td>Me - Mechanical Design, 4 years, 50k.</td>\n",
       "      <td>AskEngineers</td>\n",
       "      <td>1644800641</td>\n",
       "    </tr>\n",
       "    <tr>\n",
       "      <th>1995</th>\n",
       "      <td>Tesla Interview Progress - Giga TX</td>\n",
       "      <td>After passing many one-on-one interviews and a...</td>\n",
       "      <td>AskEngineers</td>\n",
       "      <td>1644799761</td>\n",
       "    </tr>\n",
       "    <tr>\n",
       "      <th>1996</th>\n",
       "      <td>What are some questions to ask myself as I sea...</td>\n",
       "      <td>I recently graduated with a BS in mechanical, ...</td>\n",
       "      <td>AskEngineers</td>\n",
       "      <td>1644799653</td>\n",
       "    </tr>\n",
       "  </tbody>\n",
       "</table>\n",
       "<p>1997 rows × 4 columns</p>\n",
       "</div>"
      ],
      "text/plain": [
       "                                                  title  \\\n",
       "0     ELI5 How do hand-cranked mobile shelving units...   \n",
       "1     ELI5 What made whale oil desirable as opposed ...   \n",
       "2           ELI5 how is a transistor such a fast switch   \n",
       "3     ELI5 What is CRISPR exactly and how far could ...   \n",
       "4     ELI5: Why can't we customize our phone/mobile ...   \n",
       "...                                                 ...   \n",
       "1992  I measured the screw in the calipers and the d...   \n",
       "1993  Can some please explain why all four wheels of...   \n",
       "1994  Engineers in Ontario. What’s your Field, Exper...   \n",
       "1995                 Tesla Interview Progress - Giga TX   \n",
       "1996  What are some questions to ask myself as I sea...   \n",
       "\n",
       "                                               selftext          subreddit  \\\n",
       "0     I work in an office where these gigantic shelv...  explainlikeimfive   \n",
       "1     Wasn't sure whether to tag this as biology or ...  explainlikeimfive   \n",
       "2     Our CPUs have billions of transistors and each...  explainlikeimfive   \n",
       "3                                             [removed]  explainlikeimfive   \n",
       "4     Like the title says, I love tech but know next...  explainlikeimfive   \n",
       "...                                                 ...                ...   \n",
       "1992                                                NaN       AskEngineers   \n",
       "1993  Just trying to understand why all four wheels ...       AskEngineers   \n",
       "1994              Me - Mechanical Design, 4 years, 50k.       AskEngineers   \n",
       "1995  After passing many one-on-one interviews and a...       AskEngineers   \n",
       "1996  I recently graduated with a BS in mechanical, ...       AskEngineers   \n",
       "\n",
       "      created_utc  \n",
       "0      1645817645  \n",
       "1      1645789811  \n",
       "2      1645289010  \n",
       "3      1645278569  \n",
       "4      1645121925  \n",
       "...           ...  \n",
       "1992   1644800846  \n",
       "1993   1644800765  \n",
       "1994   1644800641  \n",
       "1995   1644799761  \n",
       "1996   1644799653  \n",
       "\n",
       "[1997 rows x 4 columns]"
      ]
     },
     "execution_count": 4,
     "metadata": {},
     "output_type": "execute_result"
    }
   ],
   "source": [
    "#Check for duplicates\n",
    "df.drop_duplicates()"
   ]
  },
  {
   "cell_type": "markdown",
   "id": "0374570c",
   "metadata": {},
   "source": [
    "Since the two dataframes are of the same shape, no rows were dropped as duplicates, i.e. there are no duplicates on the dataframe. "
   ]
  },
  {
   "cell_type": "code",
   "execution_count": 5,
   "id": "01fd4672",
   "metadata": {
    "scrolled": true
   },
   "outputs": [
    {
     "data": {
      "text/html": [
       "<div>\n",
       "<style scoped>\n",
       "    .dataframe tbody tr th:only-of-type {\n",
       "        vertical-align: middle;\n",
       "    }\n",
       "\n",
       "    .dataframe tbody tr th {\n",
       "        vertical-align: top;\n",
       "    }\n",
       "\n",
       "    .dataframe thead th {\n",
       "        text-align: right;\n",
       "    }\n",
       "</style>\n",
       "<table border=\"1\" class=\"dataframe\">\n",
       "  <thead>\n",
       "    <tr style=\"text-align: right;\">\n",
       "      <th></th>\n",
       "      <th>title</th>\n",
       "      <th>selftext</th>\n",
       "      <th>created_utc</th>\n",
       "    </tr>\n",
       "    <tr>\n",
       "      <th>subreddit</th>\n",
       "      <th></th>\n",
       "      <th></th>\n",
       "      <th></th>\n",
       "    </tr>\n",
       "  </thead>\n",
       "  <tbody>\n",
       "    <tr>\n",
       "      <th>AskEngineers</th>\n",
       "      <td>999</td>\n",
       "      <td>932</td>\n",
       "      <td>999</td>\n",
       "    </tr>\n",
       "    <tr>\n",
       "      <th>explainlikeimfive</th>\n",
       "      <td>998</td>\n",
       "      <td>860</td>\n",
       "      <td>998</td>\n",
       "    </tr>\n",
       "  </tbody>\n",
       "</table>\n",
       "</div>"
      ],
      "text/plain": [
       "                   title  selftext  created_utc\n",
       "subreddit                                      \n",
       "AskEngineers         999       932          999\n",
       "explainlikeimfive    998       860          998"
      ]
     },
     "execution_count": 5,
     "metadata": {},
     "output_type": "execute_result"
    }
   ],
   "source": [
    "df.groupby('subreddit').count()"
   ]
  },
  {
   "cell_type": "code",
   "execution_count": 6,
   "id": "c23b5a2b",
   "metadata": {},
   "outputs": [
    {
     "data": {
      "text/plain": [
       "title            0\n",
       "selftext       205\n",
       "subreddit        0\n",
       "created_utc      0\n",
       "dtype: int64"
      ]
     },
     "execution_count": 6,
     "metadata": {},
     "output_type": "execute_result"
    }
   ],
   "source": [
    "#Check for nulls in the dataframe\n",
    "df.isnull().sum()"
   ]
  },
  {
   "cell_type": "code",
   "execution_count": 7,
   "id": "b7d7acfb",
   "metadata": {},
   "outputs": [
    {
     "data": {
      "text/html": [
       "<div>\n",
       "<style scoped>\n",
       "    .dataframe tbody tr th:only-of-type {\n",
       "        vertical-align: middle;\n",
       "    }\n",
       "\n",
       "    .dataframe tbody tr th {\n",
       "        vertical-align: top;\n",
       "    }\n",
       "\n",
       "    .dataframe thead th {\n",
       "        text-align: right;\n",
       "    }\n",
       "</style>\n",
       "<table border=\"1\" class=\"dataframe\">\n",
       "  <thead>\n",
       "    <tr style=\"text-align: right;\">\n",
       "      <th></th>\n",
       "      <th>title</th>\n",
       "      <th>selftext</th>\n",
       "      <th>created_utc</th>\n",
       "    </tr>\n",
       "    <tr>\n",
       "      <th>subreddit</th>\n",
       "      <th></th>\n",
       "      <th></th>\n",
       "      <th></th>\n",
       "    </tr>\n",
       "  </thead>\n",
       "  <tbody>\n",
       "    <tr>\n",
       "      <th>AskEngineers</th>\n",
       "      <td>67</td>\n",
       "      <td>0</td>\n",
       "      <td>67</td>\n",
       "    </tr>\n",
       "    <tr>\n",
       "      <th>explainlikeimfive</th>\n",
       "      <td>138</td>\n",
       "      <td>0</td>\n",
       "      <td>138</td>\n",
       "    </tr>\n",
       "  </tbody>\n",
       "</table>\n",
       "</div>"
      ],
      "text/plain": [
       "                   title  selftext  created_utc\n",
       "subreddit                                      \n",
       "AskEngineers          67         0           67\n",
       "explainlikeimfive    138         0          138"
      ]
     },
     "execution_count": 7,
     "metadata": {},
     "output_type": "execute_result"
    }
   ],
   "source": [
    "#Check for nulls per subreddit\n",
    "df[df['selftext'].isnull()].groupby('subreddit').count()"
   ]
  },
  {
   "cell_type": "markdown",
   "id": "4944040d",
   "metadata": {},
   "source": [
    "The plan is to use both *title* and *selftext* for the prediction model. It is for this reason that, whenever there is missing or incomplete *selftext* entry, text of *title* is examined to to keep the row with sufficient overall text, and drop those without sufficient text. "
   ]
  },
  {
   "cell_type": "code",
   "execution_count": 8,
   "id": "7d11ee98",
   "metadata": {},
   "outputs": [
    {
     "data": {
      "text/plain": [
       "445     298\n",
       "92      280\n",
       "367     277\n",
       "1968    271\n",
       "1485    268\n",
       "       ... \n",
       "1103     26\n",
       "508      26\n",
       "1427     26\n",
       "1936     24\n",
       "1623      4\n",
       "Name: title, Length: 205, dtype: int64"
      ]
     },
     "execution_count": 8,
     "metadata": {},
     "output_type": "execute_result"
    }
   ],
   "source": [
    "#Check the length of text in the title section of these rows, that have a NaN value for selftext \n",
    "df[df['selftext'].isnull()]['title'].map(len).sort_values(ascending=False)"
   ]
  },
  {
   "cell_type": "markdown",
   "id": "6177f2ce",
   "metadata": {},
   "source": [
    "Looks like most of the rows with missing selftext have title text length more than 24, which is enough to work off for the model. Hence, it will be okay to replace these missing values with blanks/empty string. But there is one post that has no selftext and just 4 letters/characters in the title. "
   ]
  },
  {
   "cell_type": "code",
   "execution_count": 9,
   "id": "09185661",
   "metadata": {},
   "outputs": [
    {
     "data": {
      "text/plain": [
       "title                  Help\n",
       "selftext                NaN\n",
       "subreddit      AskEngineers\n",
       "created_utc      1645216848\n",
       "Name: 1623, dtype: object"
      ]
     },
     "execution_count": 9,
     "metadata": {},
     "output_type": "execute_result"
    }
   ],
   "source": [
    "#Check the title with 4 letters/characters\n",
    "df.iloc[1623]"
   ]
  },
  {
   "cell_type": "markdown",
   "id": "ec1fc9d9",
   "metadata": {},
   "source": [
    "The only text in that post is 'Help', which is also part of stopwords = 'english'. It will be dropped if stopwords are dropped in the model later. Hence, the row is being dropped for no value addition."
   ]
  },
  {
   "cell_type": "code",
   "execution_count": 10,
   "id": "9192bb68",
   "metadata": {},
   "outputs": [],
   "source": [
    "#Drop row with index 1623\n",
    "df.drop(index=1623,inplace=True)"
   ]
  },
  {
   "cell_type": "code",
   "execution_count": 11,
   "id": "e5ea91a5",
   "metadata": {},
   "outputs": [],
   "source": [
    "#Replace NaN's with ''\n",
    "df['selftext'].fillna(' ',inplace=True)"
   ]
  },
  {
   "cell_type": "code",
   "execution_count": 12,
   "id": "c51ac0f7",
   "metadata": {},
   "outputs": [
    {
     "data": {
      "text/plain": [
       "title          0\n",
       "selftext       0\n",
       "subreddit      0\n",
       "created_utc    0\n",
       "dtype: int64"
      ]
     },
     "execution_count": 12,
     "metadata": {},
     "output_type": "execute_result"
    }
   ],
   "source": [
    "#Check the DataFrame again for null values\n",
    "df.isnull().sum()"
   ]
  },
  {
   "cell_type": "markdown",
   "id": "73e4c98a",
   "metadata": {},
   "source": [
    "Because a row was dropped, it makes indexing difficult. Hence, the following code is used to reset index. "
   ]
  },
  {
   "cell_type": "code",
   "execution_count": 13,
   "id": "5437ea28",
   "metadata": {},
   "outputs": [],
   "source": [
    "df.reset_index(drop=True,inplace=True)"
   ]
  },
  {
   "cell_type": "markdown",
   "id": "786100ca",
   "metadata": {},
   "source": [
    "Another step in data cleaning is required for rows with selftext '[removed]'. These are the comments removed or deleted. "
   ]
  },
  {
   "cell_type": "code",
   "execution_count": 14,
   "id": "88bdc2f7",
   "metadata": {},
   "outputs": [
    {
     "data": {
      "text/html": [
       "<div>\n",
       "<style scoped>\n",
       "    .dataframe tbody tr th:only-of-type {\n",
       "        vertical-align: middle;\n",
       "    }\n",
       "\n",
       "    .dataframe tbody tr th {\n",
       "        vertical-align: top;\n",
       "    }\n",
       "\n",
       "    .dataframe thead th {\n",
       "        text-align: right;\n",
       "    }\n",
       "</style>\n",
       "<table border=\"1\" class=\"dataframe\">\n",
       "  <thead>\n",
       "    <tr style=\"text-align: right;\">\n",
       "      <th></th>\n",
       "      <th>title</th>\n",
       "      <th>selftext</th>\n",
       "      <th>created_utc</th>\n",
       "    </tr>\n",
       "    <tr>\n",
       "      <th>subreddit</th>\n",
       "      <th></th>\n",
       "      <th></th>\n",
       "      <th></th>\n",
       "    </tr>\n",
       "  </thead>\n",
       "  <tbody>\n",
       "    <tr>\n",
       "      <th>AskEngineers</th>\n",
       "      <td>111</td>\n",
       "      <td>111</td>\n",
       "      <td>111</td>\n",
       "    </tr>\n",
       "    <tr>\n",
       "      <th>explainlikeimfive</th>\n",
       "      <td>196</td>\n",
       "      <td>196</td>\n",
       "      <td>196</td>\n",
       "    </tr>\n",
       "  </tbody>\n",
       "</table>\n",
       "</div>"
      ],
      "text/plain": [
       "                   title  selftext  created_utc\n",
       "subreddit                                      \n",
       "AskEngineers         111       111          111\n",
       "explainlikeimfive    196       196          196"
      ]
     },
     "execution_count": 14,
     "metadata": {},
     "output_type": "execute_result"
    }
   ],
   "source": [
    "df[df['selftext'] == '[removed]'].groupby('subreddit').count()"
   ]
  },
  {
   "cell_type": "code",
   "execution_count": 15,
   "id": "72890e6a",
   "metadata": {},
   "outputs": [
    {
     "data": {
      "text/plain": [
       "title          0\n",
       "selftext       0\n",
       "subreddit      0\n",
       "created_utc    0\n",
       "dtype: int64"
      ]
     },
     "execution_count": 15,
     "metadata": {},
     "output_type": "execute_result"
    }
   ],
   "source": [
    "df.isnull().sum()"
   ]
  },
  {
   "cell_type": "code",
   "execution_count": 16,
   "id": "5405cf55",
   "metadata": {},
   "outputs": [
    {
     "data": {
      "text/plain": [
       "(1996, 4)"
      ]
     },
     "execution_count": 16,
     "metadata": {},
     "output_type": "execute_result"
    }
   ],
   "source": [
    "df.shape"
   ]
  },
  {
   "cell_type": "code",
   "execution_count": 17,
   "id": "21d6d268",
   "metadata": {},
   "outputs": [
    {
     "data": {
      "text/plain": [
       "1348    299\n",
       "668     282\n",
       "549     274\n",
       "886     269\n",
       "866     269\n",
       "       ... \n",
       "1845      6\n",
       "1366      4\n",
       "1781      4\n",
       "1545      4\n",
       "1415      3\n",
       "Name: title, Length: 307, dtype: int64"
      ]
     },
     "execution_count": 17,
     "metadata": {},
     "output_type": "execute_result"
    }
   ],
   "source": [
    "#Check the length of text in the title section of these rows, that have '[removed]' for selftext \n",
    "df[df['selftext'] == '[removed]']['title'].map(len).sort_values(ascending=False)"
   ]
  },
  {
   "cell_type": "markdown",
   "id": "640bf099",
   "metadata": {},
   "source": [
    "There are 307 rows with '[removed]' *selftext*. Some of the titles with these selftexts are relatively short length of text for Natural Language Processing model to work off of. Replacing the *selftext* with blank string will be helpful, only after checking that we have enough text to work our model off of those rows."
   ]
  },
  {
   "cell_type": "code",
   "execution_count": 18,
   "id": "5e480f40",
   "metadata": {},
   "outputs": [],
   "source": [
    "indices = df[df['selftext'] == '[removed]']['title'].map(lambda x: len(x.split())).sort_values(ascending=True).head(14).index"
   ]
  },
  {
   "cell_type": "code",
   "execution_count": 19,
   "id": "dcce3713",
   "metadata": {},
   "outputs": [
    {
     "data": {
      "text/plain": [
       "Int64Index([1625, 1366, 1365, 1089, 1415, 1545, 1781, 1914, 1053, 1845,  623,\n",
       "            1709, 1101, 1696],\n",
       "           dtype='int64')"
      ]
     },
     "execution_count": 19,
     "metadata": {},
     "output_type": "execute_result"
    }
   ],
   "source": [
    "indices"
   ]
  },
  {
   "cell_type": "code",
   "execution_count": 20,
   "id": "dc239a86",
   "metadata": {},
   "outputs": [
    {
     "data": {
      "text/html": [
       "<div>\n",
       "<style scoped>\n",
       "    .dataframe tbody tr th:only-of-type {\n",
       "        vertical-align: middle;\n",
       "    }\n",
       "\n",
       "    .dataframe tbody tr th {\n",
       "        vertical-align: top;\n",
       "    }\n",
       "\n",
       "    .dataframe thead th {\n",
       "        text-align: right;\n",
       "    }\n",
       "</style>\n",
       "<table border=\"1\" class=\"dataframe\">\n",
       "  <thead>\n",
       "    <tr style=\"text-align: right;\">\n",
       "      <th></th>\n",
       "      <th>title</th>\n",
       "      <th>selftext</th>\n",
       "      <th>subreddit</th>\n",
       "      <th>created_utc</th>\n",
       "    </tr>\n",
       "  </thead>\n",
       "  <tbody>\n",
       "    <tr>\n",
       "      <th>1625</th>\n",
       "      <td>Finally!!</td>\n",
       "      <td>[removed]</td>\n",
       "      <td>AskEngineers</td>\n",
       "      <td>1645214401</td>\n",
       "    </tr>\n",
       "    <tr>\n",
       "      <th>1366</th>\n",
       "      <td>Math</td>\n",
       "      <td>[removed]</td>\n",
       "      <td>AskEngineers</td>\n",
       "      <td>1645606286</td>\n",
       "    </tr>\n",
       "    <tr>\n",
       "      <th>1365</th>\n",
       "      <td>Intern</td>\n",
       "      <td>[removed]</td>\n",
       "      <td>AskEngineers</td>\n",
       "      <td>1645606491</td>\n",
       "    </tr>\n",
       "    <tr>\n",
       "      <th>1089</th>\n",
       "      <td>Startups</td>\n",
       "      <td>[removed]</td>\n",
       "      <td>AskEngineers</td>\n",
       "      <td>1646024695</td>\n",
       "    </tr>\n",
       "    <tr>\n",
       "      <th>1415</th>\n",
       "      <td>Job</td>\n",
       "      <td>[removed]</td>\n",
       "      <td>AskEngineers</td>\n",
       "      <td>1645558890</td>\n",
       "    </tr>\n",
       "    <tr>\n",
       "      <th>1545</th>\n",
       "      <td>Jobs</td>\n",
       "      <td>[removed]</td>\n",
       "      <td>AskEngineers</td>\n",
       "      <td>1645359568</td>\n",
       "    </tr>\n",
       "    <tr>\n",
       "      <th>1781</th>\n",
       "      <td>Idea</td>\n",
       "      <td>[removed]</td>\n",
       "      <td>AskEngineers</td>\n",
       "      <td>1645036003</td>\n",
       "    </tr>\n",
       "    <tr>\n",
       "      <th>1914</th>\n",
       "      <td>question</td>\n",
       "      <td>[removed]</td>\n",
       "      <td>AskEngineers</td>\n",
       "      <td>1644880587</td>\n",
       "    </tr>\n",
       "    <tr>\n",
       "      <th>1053</th>\n",
       "      <td>Hello!</td>\n",
       "      <td>[removed]</td>\n",
       "      <td>AskEngineers</td>\n",
       "      <td>1646079891</td>\n",
       "    </tr>\n",
       "    <tr>\n",
       "      <th>1845</th>\n",
       "      <td>Advice</td>\n",
       "      <td>[removed]</td>\n",
       "      <td>AskEngineers</td>\n",
       "      <td>1644962570</td>\n",
       "    </tr>\n",
       "    <tr>\n",
       "      <th>623</th>\n",
       "      <td>ELI5:engineering</td>\n",
       "      <td>[removed]</td>\n",
       "      <td>explainlikeimfive</td>\n",
       "      <td>1493868822</td>\n",
       "    </tr>\n",
       "    <tr>\n",
       "      <th>1709</th>\n",
       "      <td>need advice</td>\n",
       "      <td>[removed]</td>\n",
       "      <td>AskEngineers</td>\n",
       "      <td>1645127052</td>\n",
       "    </tr>\n",
       "    <tr>\n",
       "      <th>1101</th>\n",
       "      <td>Environmental Engineering</td>\n",
       "      <td>[removed]</td>\n",
       "      <td>AskEngineers</td>\n",
       "      <td>1646008040</td>\n",
       "    </tr>\n",
       "    <tr>\n",
       "      <th>1696</th>\n",
       "      <td>industrial engineering</td>\n",
       "      <td>[removed]</td>\n",
       "      <td>AskEngineers</td>\n",
       "      <td>1645137933</td>\n",
       "    </tr>\n",
       "  </tbody>\n",
       "</table>\n",
       "</div>"
      ],
      "text/plain": [
       "                          title   selftext          subreddit  created_utc\n",
       "1625                  Finally!!  [removed]       AskEngineers   1645214401\n",
       "1366                       Math  [removed]       AskEngineers   1645606286\n",
       "1365                     Intern  [removed]       AskEngineers   1645606491\n",
       "1089                   Startups  [removed]       AskEngineers   1646024695\n",
       "1415                        Job  [removed]       AskEngineers   1645558890\n",
       "1545                       Jobs  [removed]       AskEngineers   1645359568\n",
       "1781                       Idea  [removed]       AskEngineers   1645036003\n",
       "1914                   question  [removed]       AskEngineers   1644880587\n",
       "1053                     Hello!  [removed]       AskEngineers   1646079891\n",
       "1845                     Advice  [removed]       AskEngineers   1644962570\n",
       "623            ELI5:engineering  [removed]  explainlikeimfive   1493868822\n",
       "1709                need advice  [removed]       AskEngineers   1645127052\n",
       "1101  Environmental Engineering  [removed]       AskEngineers   1646008040\n",
       "1696     industrial engineering  [removed]       AskEngineers   1645137933"
      ]
     },
     "execution_count": 20,
     "metadata": {},
     "output_type": "execute_result"
    }
   ],
   "source": [
    "df.iloc[indices]"
   ]
  },
  {
   "cell_type": "code",
   "execution_count": 21,
   "id": "ed714ed6",
   "metadata": {},
   "outputs": [],
   "source": [
    "#List of stopwords that may or may not be excluded from the model\n",
    "stopwords = stopwords.words('english')"
   ]
  },
  {
   "cell_type": "code",
   "execution_count": 22,
   "id": "65d45db6",
   "metadata": {},
   "outputs": [
    {
     "data": {
      "text/plain": [
       "1625    False\n",
       "1366    False\n",
       "1365    False\n",
       "1089    False\n",
       "1415    False\n",
       "1545    False\n",
       "1781    False\n",
       "1914    False\n",
       "1053    False\n",
       "1845    False\n",
       "623     False\n",
       "1709    False\n",
       "1101    False\n",
       "1696    False\n",
       "Name: title, dtype: bool"
      ]
     },
     "execution_count": 22,
     "metadata": {},
     "output_type": "execute_result"
    }
   ],
   "source": [
    "#Check if the single words fall under the stopwords umbrella\n",
    "df.iloc[indices]['title'].map(lambda x: True if x in stopwords else False)"
   ]
  },
  {
   "cell_type": "markdown",
   "id": "80ba16d3",
   "metadata": {},
   "source": [
    "As none of the text in rows with with single words in *title* column and '[removed]' in *selftext* column fall under stopwords umbrella, these rows can be used for natural language processing and need not be dropped. And the rows with '[removed]' can be replaced by blank string."
   ]
  },
  {
   "cell_type": "code",
   "execution_count": 23,
   "id": "f78d75fa",
   "metadata": {},
   "outputs": [],
   "source": [
    "df.replace(to_replace='[removed]',value=' ',inplace=True)"
   ]
  },
  {
   "cell_type": "code",
   "execution_count": 24,
   "id": "5d57013c",
   "metadata": {},
   "outputs": [
    {
     "data": {
      "text/html": [
       "<div>\n",
       "<style scoped>\n",
       "    .dataframe tbody tr th:only-of-type {\n",
       "        vertical-align: middle;\n",
       "    }\n",
       "\n",
       "    .dataframe tbody tr th {\n",
       "        vertical-align: top;\n",
       "    }\n",
       "\n",
       "    .dataframe thead th {\n",
       "        text-align: right;\n",
       "    }\n",
       "</style>\n",
       "<table border=\"1\" class=\"dataframe\">\n",
       "  <thead>\n",
       "    <tr style=\"text-align: right;\">\n",
       "      <th></th>\n",
       "      <th>title</th>\n",
       "      <th>selftext</th>\n",
       "      <th>subreddit</th>\n",
       "      <th>created_utc</th>\n",
       "    </tr>\n",
       "  </thead>\n",
       "  <tbody>\n",
       "  </tbody>\n",
       "</table>\n",
       "</div>"
      ],
      "text/plain": [
       "Empty DataFrame\n",
       "Columns: [title, selftext, subreddit, created_utc]\n",
       "Index: []"
      ]
     },
     "execution_count": 24,
     "metadata": {},
     "output_type": "execute_result"
    }
   ],
   "source": [
    "#Check if the replace went through\n",
    "df[df['subreddit'] == '[removed]']"
   ]
  },
  {
   "cell_type": "code",
   "execution_count": 25,
   "id": "584ba68c",
   "metadata": {},
   "outputs": [
    {
     "data": {
      "text/plain": [
       "title          0\n",
       "selftext       0\n",
       "subreddit      0\n",
       "created_utc    0\n",
       "dtype: int64"
      ]
     },
     "execution_count": 25,
     "metadata": {},
     "output_type": "execute_result"
    }
   ],
   "source": [
    "df.isnull().sum()"
   ]
  },
  {
   "cell_type": "code",
   "execution_count": 26,
   "id": "187f3094",
   "metadata": {},
   "outputs": [
    {
     "data": {
      "text/plain": [
       "(1996, 4)"
      ]
     },
     "execution_count": 26,
     "metadata": {},
     "output_type": "execute_result"
    }
   ],
   "source": [
    "#Check the shape of the dataframe\n",
    "df.shape"
   ]
  },
  {
   "cell_type": "markdown",
   "id": "61faf788",
   "metadata": {},
   "source": [
    "**Removing URL from *selftext* column**"
   ]
  },
  {
   "cell_type": "code",
   "execution_count": 27,
   "id": "d24019dd",
   "metadata": {},
   "outputs": [],
   "source": [
    "df['selftext'] = df['selftext'].str.replace('https:\\/\\/',' ',regex=True)"
   ]
  },
  {
   "cell_type": "code",
   "execution_count": 28,
   "id": "87e10187",
   "metadata": {},
   "outputs": [
    {
     "data": {
      "text/html": [
       "<div>\n",
       "<style scoped>\n",
       "    .dataframe tbody tr th:only-of-type {\n",
       "        vertical-align: middle;\n",
       "    }\n",
       "\n",
       "    .dataframe tbody tr th {\n",
       "        vertical-align: top;\n",
       "    }\n",
       "\n",
       "    .dataframe thead th {\n",
       "        text-align: right;\n",
       "    }\n",
       "</style>\n",
       "<table border=\"1\" class=\"dataframe\">\n",
       "  <thead>\n",
       "    <tr style=\"text-align: right;\">\n",
       "      <th></th>\n",
       "      <th>title</th>\n",
       "      <th>selftext</th>\n",
       "      <th>subreddit</th>\n",
       "      <th>created_utc</th>\n",
       "    </tr>\n",
       "  </thead>\n",
       "  <tbody>\n",
       "  </tbody>\n",
       "</table>\n",
       "</div>"
      ],
      "text/plain": [
       "Empty DataFrame\n",
       "Columns: [title, selftext, subreddit, created_utc]\n",
       "Index: []"
      ]
     },
     "execution_count": 28,
     "metadata": {},
     "output_type": "execute_result"
    }
   ],
   "source": [
    "#Check if https has been removed\n",
    "df[df['selftext'].str.contains('https')]"
   ]
  },
  {
   "cell_type": "code",
   "execution_count": 29,
   "id": "fd4f2e38",
   "metadata": {},
   "outputs": [],
   "source": [
    "#Create a new column that combines title and selftext\n",
    "df['full_text'] = df['title'] + ' ' + df['selftext']"
   ]
  },
  {
   "cell_type": "code",
   "execution_count": 30,
   "id": "a9d6c201",
   "metadata": {},
   "outputs": [
    {
     "data": {
      "text/html": [
       "<div>\n",
       "<style scoped>\n",
       "    .dataframe tbody tr th:only-of-type {\n",
       "        vertical-align: middle;\n",
       "    }\n",
       "\n",
       "    .dataframe tbody tr th {\n",
       "        vertical-align: top;\n",
       "    }\n",
       "\n",
       "    .dataframe thead th {\n",
       "        text-align: right;\n",
       "    }\n",
       "</style>\n",
       "<table border=\"1\" class=\"dataframe\">\n",
       "  <thead>\n",
       "    <tr style=\"text-align: right;\">\n",
       "      <th></th>\n",
       "      <th>title</th>\n",
       "      <th>selftext</th>\n",
       "      <th>subreddit</th>\n",
       "      <th>created_utc</th>\n",
       "      <th>full_text</th>\n",
       "    </tr>\n",
       "  </thead>\n",
       "  <tbody>\n",
       "    <tr>\n",
       "      <th>0</th>\n",
       "      <td>ELI5 How do hand-cranked mobile shelving units...</td>\n",
       "      <td>I work in an office where these gigantic shelv...</td>\n",
       "      <td>explainlikeimfive</td>\n",
       "      <td>1645817645</td>\n",
       "      <td>ELI5 How do hand-cranked mobile shelving units...</td>\n",
       "    </tr>\n",
       "    <tr>\n",
       "      <th>1</th>\n",
       "      <td>ELI5 What made whale oil desirable as opposed ...</td>\n",
       "      <td>Wasn't sure whether to tag this as biology or ...</td>\n",
       "      <td>explainlikeimfive</td>\n",
       "      <td>1645789811</td>\n",
       "      <td>ELI5 What made whale oil desirable as opposed ...</td>\n",
       "    </tr>\n",
       "    <tr>\n",
       "      <th>2</th>\n",
       "      <td>ELI5 how is a transistor such a fast switch</td>\n",
       "      <td>Our CPUs have billions of transistors and each...</td>\n",
       "      <td>explainlikeimfive</td>\n",
       "      <td>1645289010</td>\n",
       "      <td>ELI5 how is a transistor such a fast switch Ou...</td>\n",
       "    </tr>\n",
       "    <tr>\n",
       "      <th>3</th>\n",
       "      <td>ELI5 What is CRISPR exactly and how far could ...</td>\n",
       "      <td></td>\n",
       "      <td>explainlikeimfive</td>\n",
       "      <td>1645278569</td>\n",
       "      <td>ELI5 What is CRISPR exactly and how far could ...</td>\n",
       "    </tr>\n",
       "    <tr>\n",
       "      <th>4</th>\n",
       "      <td>ELI5: Why can't we customize our phone/mobile ...</td>\n",
       "      <td>Like the title says, I love tech but know next...</td>\n",
       "      <td>explainlikeimfive</td>\n",
       "      <td>1645121925</td>\n",
       "      <td>ELI5: Why can't we customize our phone/mobile ...</td>\n",
       "    </tr>\n",
       "  </tbody>\n",
       "</table>\n",
       "</div>"
      ],
      "text/plain": [
       "                                               title  \\\n",
       "0  ELI5 How do hand-cranked mobile shelving units...   \n",
       "1  ELI5 What made whale oil desirable as opposed ...   \n",
       "2        ELI5 how is a transistor such a fast switch   \n",
       "3  ELI5 What is CRISPR exactly and how far could ...   \n",
       "4  ELI5: Why can't we customize our phone/mobile ...   \n",
       "\n",
       "                                            selftext          subreddit  \\\n",
       "0  I work in an office where these gigantic shelv...  explainlikeimfive   \n",
       "1  Wasn't sure whether to tag this as biology or ...  explainlikeimfive   \n",
       "2  Our CPUs have billions of transistors and each...  explainlikeimfive   \n",
       "3                                                     explainlikeimfive   \n",
       "4  Like the title says, I love tech but know next...  explainlikeimfive   \n",
       "\n",
       "   created_utc                                          full_text  \n",
       "0   1645817645  ELI5 How do hand-cranked mobile shelving units...  \n",
       "1   1645789811  ELI5 What made whale oil desirable as opposed ...  \n",
       "2   1645289010  ELI5 how is a transistor such a fast switch Ou...  \n",
       "3   1645278569  ELI5 What is CRISPR exactly and how far could ...  \n",
       "4   1645121925  ELI5: Why can't we customize our phone/mobile ...  "
      ]
     },
     "execution_count": 30,
     "metadata": {},
     "output_type": "execute_result"
    }
   ],
   "source": [
    "#Check for the new column in the dataframe\n",
    "df.head()"
   ]
  },
  {
   "cell_type": "markdown",
   "id": "edc8eaed",
   "metadata": {},
   "source": [
    "Many of the title rows contain 'ELI5', 'ELI5:', 'eli5', 'eli5:', 'AskEngineers' and 'askengineers' which is an abbreviation of the subreddit itself. These prefixes will need to be removed in order to train the model on this data and predict from it.  "
   ]
  },
  {
   "cell_type": "code",
   "execution_count": 31,
   "id": "86148c21",
   "metadata": {},
   "outputs": [
    {
     "data": {
      "text/plain": [
       "773"
      ]
     },
     "execution_count": 31,
     "metadata": {},
     "output_type": "execute_result"
    }
   ],
   "source": [
    "df['full_text'].str.contains('ELI5:').sum()"
   ]
  },
  {
   "cell_type": "markdown",
   "id": "b91318df",
   "metadata": {},
   "source": [
    "773 rows contain the abbreviation of the subreddit. We want words other than the subreddit name to train the model. The following code removes these keywords form the text. "
   ]
  },
  {
   "cell_type": "code",
   "execution_count": 32,
   "id": "78093d62",
   "metadata": {},
   "outputs": [],
   "source": [
    "df['full_text'] = df['full_text'].str.replace('[Ee][Ll][Ii]5[:]?',' ',regex=True)"
   ]
  },
  {
   "cell_type": "code",
   "execution_count": 33,
   "id": "c5288567",
   "metadata": {},
   "outputs": [
    {
     "data": {
      "text/html": [
       "<div>\n",
       "<style scoped>\n",
       "    .dataframe tbody tr th:only-of-type {\n",
       "        vertical-align: middle;\n",
       "    }\n",
       "\n",
       "    .dataframe tbody tr th {\n",
       "        vertical-align: top;\n",
       "    }\n",
       "\n",
       "    .dataframe thead th {\n",
       "        text-align: right;\n",
       "    }\n",
       "</style>\n",
       "<table border=\"1\" class=\"dataframe\">\n",
       "  <thead>\n",
       "    <tr style=\"text-align: right;\">\n",
       "      <th></th>\n",
       "      <th>title</th>\n",
       "      <th>selftext</th>\n",
       "      <th>subreddit</th>\n",
       "      <th>created_utc</th>\n",
       "      <th>full_text</th>\n",
       "    </tr>\n",
       "  </thead>\n",
       "  <tbody>\n",
       "  </tbody>\n",
       "</table>\n",
       "</div>"
      ],
      "text/plain": [
       "Empty DataFrame\n",
       "Columns: [title, selftext, subreddit, created_utc, full_text]\n",
       "Index: []"
      ]
     },
     "execution_count": 33,
     "metadata": {},
     "output_type": "execute_result"
    }
   ],
   "source": [
    "df[df['full_text'].str.contains('eli5')]"
   ]
  },
  {
   "cell_type": "code",
   "execution_count": 34,
   "id": "023aec11",
   "metadata": {},
   "outputs": [
    {
     "data": {
      "text/html": [
       "<div>\n",
       "<style scoped>\n",
       "    .dataframe tbody tr th:only-of-type {\n",
       "        vertical-align: middle;\n",
       "    }\n",
       "\n",
       "    .dataframe tbody tr th {\n",
       "        vertical-align: top;\n",
       "    }\n",
       "\n",
       "    .dataframe thead th {\n",
       "        text-align: right;\n",
       "    }\n",
       "</style>\n",
       "<table border=\"1\" class=\"dataframe\">\n",
       "  <thead>\n",
       "    <tr style=\"text-align: right;\">\n",
       "      <th></th>\n",
       "      <th>title</th>\n",
       "      <th>selftext</th>\n",
       "      <th>subreddit</th>\n",
       "      <th>created_utc</th>\n",
       "      <th>full_text</th>\n",
       "    </tr>\n",
       "  </thead>\n",
       "  <tbody>\n",
       "  </tbody>\n",
       "</table>\n",
       "</div>"
      ],
      "text/plain": [
       "Empty DataFrame\n",
       "Columns: [title, selftext, subreddit, created_utc, full_text]\n",
       "Index: []"
      ]
     },
     "execution_count": 34,
     "metadata": {},
     "output_type": "execute_result"
    }
   ],
   "source": [
    "df[df['full_text'].str.contains('ELI5')]"
   ]
  },
  {
   "cell_type": "markdown",
   "id": "bf7280c9",
   "metadata": {},
   "source": [
    "ELI5 or eli5 has been removed from the text."
   ]
  },
  {
   "cell_type": "code",
   "execution_count": 35,
   "id": "3eca03b7",
   "metadata": {},
   "outputs": [
    {
     "data": {
      "text/html": [
       "<div>\n",
       "<style scoped>\n",
       "    .dataframe tbody tr th:only-of-type {\n",
       "        vertical-align: middle;\n",
       "    }\n",
       "\n",
       "    .dataframe tbody tr th {\n",
       "        vertical-align: top;\n",
       "    }\n",
       "\n",
       "    .dataframe thead th {\n",
       "        text-align: right;\n",
       "    }\n",
       "</style>\n",
       "<table border=\"1\" class=\"dataframe\">\n",
       "  <thead>\n",
       "    <tr style=\"text-align: right;\">\n",
       "      <th></th>\n",
       "      <th>title</th>\n",
       "      <th>selftext</th>\n",
       "      <th>subreddit</th>\n",
       "      <th>created_utc</th>\n",
       "      <th>full_text</th>\n",
       "    </tr>\n",
       "  </thead>\n",
       "  <tbody>\n",
       "    <tr>\n",
       "      <th>1231</th>\n",
       "      <td>Failure Friday (25 Feb 2022): Break something ...</td>\n",
       "      <td># Intro\\n\\nToday's thread is for all the recen...</td>\n",
       "      <td>AskEngineers</td>\n",
       "      <td>1645797617</td>\n",
       "      <td>Failure Friday (25 Feb 2022): Break something ...</td>\n",
       "    </tr>\n",
       "    <tr>\n",
       "      <th>1400</th>\n",
       "      <td>Contract Engineer vs. Regular Full-Time (Doing...</td>\n",
       "      <td>***tldr;*** I make $85K/base + $10K other bene...</td>\n",
       "      <td>AskEngineers</td>\n",
       "      <td>1645565455</td>\n",
       "      <td>Contract Engineer vs. Regular Full-Time (Doing...</td>\n",
       "    </tr>\n",
       "    <tr>\n",
       "      <th>1623</th>\n",
       "      <td>I kindly ask r/AskEngineers for feedback on a ...</td>\n",
       "      <td>***!DISCLAIMER!***\\n\\nAlthough this **is a hom...</td>\n",
       "      <td>AskEngineers</td>\n",
       "      <td>1645216014</td>\n",
       "      <td>I kindly ask r/AskEngineers for feedback on a ...</td>\n",
       "    </tr>\n",
       "    <tr>\n",
       "      <th>1657</th>\n",
       "      <td>Failure Friday (18 Feb 2022): Break something ...</td>\n",
       "      <td># Intro\\n\\nToday's thread is for all the recen...</td>\n",
       "      <td>AskEngineers</td>\n",
       "      <td>1645192818</td>\n",
       "      <td>Failure Friday (18 Feb 2022): Break something ...</td>\n",
       "    </tr>\n",
       "    <tr>\n",
       "      <th>1894</th>\n",
       "      <td>Looks like I’m going to be offered 2 jobs. Wha...</td>\n",
       "      <td>Background: 5 years usmc infantry Iraq . PMP B...</td>\n",
       "      <td>AskEngineers</td>\n",
       "      <td>1644902908</td>\n",
       "      <td>Looks like I’m going to be offered 2 jobs. Wha...</td>\n",
       "    </tr>\n",
       "    <tr>\n",
       "      <th>1949</th>\n",
       "      <td>Time To Escalate Negotiation Pressure?</td>\n",
       "      <td>My company is about to let their union contrac...</td>\n",
       "      <td>AskEngineers</td>\n",
       "      <td>1644857785</td>\n",
       "      <td>Time To Escalate Negotiation Pressure? My comp...</td>\n",
       "    </tr>\n",
       "  </tbody>\n",
       "</table>\n",
       "</div>"
      ],
      "text/plain": [
       "                                                  title  \\\n",
       "1231  Failure Friday (25 Feb 2022): Break something ...   \n",
       "1400  Contract Engineer vs. Regular Full-Time (Doing...   \n",
       "1623  I kindly ask r/AskEngineers for feedback on a ...   \n",
       "1657  Failure Friday (18 Feb 2022): Break something ...   \n",
       "1894  Looks like I’m going to be offered 2 jobs. Wha...   \n",
       "1949             Time To Escalate Negotiation Pressure?   \n",
       "\n",
       "                                               selftext     subreddit  \\\n",
       "1231  # Intro\\n\\nToday's thread is for all the recen...  AskEngineers   \n",
       "1400  ***tldr;*** I make $85K/base + $10K other bene...  AskEngineers   \n",
       "1623  ***!DISCLAIMER!***\\n\\nAlthough this **is a hom...  AskEngineers   \n",
       "1657  # Intro\\n\\nToday's thread is for all the recen...  AskEngineers   \n",
       "1894  Background: 5 years usmc infantry Iraq . PMP B...  AskEngineers   \n",
       "1949  My company is about to let their union contrac...  AskEngineers   \n",
       "\n",
       "      created_utc                                          full_text  \n",
       "1231   1645797617  Failure Friday (25 Feb 2022): Break something ...  \n",
       "1400   1645565455  Contract Engineer vs. Regular Full-Time (Doing...  \n",
       "1623   1645216014  I kindly ask r/AskEngineers for feedback on a ...  \n",
       "1657   1645192818  Failure Friday (18 Feb 2022): Break something ...  \n",
       "1894   1644902908  Looks like I’m going to be offered 2 jobs. Wha...  \n",
       "1949   1644857785  Time To Escalate Negotiation Pressure? My comp...  "
      ]
     },
     "execution_count": 35,
     "metadata": {},
     "output_type": "execute_result"
    }
   ],
   "source": [
    "df[df['full_text'].str.contains('AskEngineer')]"
   ]
  },
  {
   "cell_type": "code",
   "execution_count": 36,
   "id": "1966ec45",
   "metadata": {},
   "outputs": [
    {
     "data": {
      "text/html": [
       "<div>\n",
       "<style scoped>\n",
       "    .dataframe tbody tr th:only-of-type {\n",
       "        vertical-align: middle;\n",
       "    }\n",
       "\n",
       "    .dataframe tbody tr th {\n",
       "        vertical-align: top;\n",
       "    }\n",
       "\n",
       "    .dataframe thead th {\n",
       "        text-align: right;\n",
       "    }\n",
       "</style>\n",
       "<table border=\"1\" class=\"dataframe\">\n",
       "  <thead>\n",
       "    <tr style=\"text-align: right;\">\n",
       "      <th></th>\n",
       "      <th>title</th>\n",
       "      <th>selftext</th>\n",
       "      <th>subreddit</th>\n",
       "      <th>created_utc</th>\n",
       "      <th>full_text</th>\n",
       "    </tr>\n",
       "  </thead>\n",
       "  <tbody>\n",
       "  </tbody>\n",
       "</table>\n",
       "</div>"
      ],
      "text/plain": [
       "Empty DataFrame\n",
       "Columns: [title, selftext, subreddit, created_utc, full_text]\n",
       "Index: []"
      ]
     },
     "execution_count": 36,
     "metadata": {},
     "output_type": "execute_result"
    }
   ],
   "source": [
    "df[df['full_text'].str.contains('askengineer')]"
   ]
  },
  {
   "cell_type": "markdown",
   "id": "fb7f83be",
   "metadata": {},
   "source": [
    "6 rows contain AskEngineer, which is its subreddit. We need to remove these direct references to the subreddit. "
   ]
  },
  {
   "cell_type": "code",
   "execution_count": 37,
   "id": "b79bec4b",
   "metadata": {},
   "outputs": [],
   "source": [
    "#Remove the above mentioned words and replace them with '' \n",
    "df['full_text'] = df['full_text'].str.replace('[Aa][Ss][Kk][Ee][Nn][Gg][Ii][Nn][Ee]{2}[Rr]',' ',regex=True)"
   ]
  },
  {
   "cell_type": "code",
   "execution_count": 38,
   "id": "6ac7d16a",
   "metadata": {},
   "outputs": [
    {
     "data": {
      "text/html": [
       "<div>\n",
       "<style scoped>\n",
       "    .dataframe tbody tr th:only-of-type {\n",
       "        vertical-align: middle;\n",
       "    }\n",
       "\n",
       "    .dataframe tbody tr th {\n",
       "        vertical-align: top;\n",
       "    }\n",
       "\n",
       "    .dataframe thead th {\n",
       "        text-align: right;\n",
       "    }\n",
       "</style>\n",
       "<table border=\"1\" class=\"dataframe\">\n",
       "  <thead>\n",
       "    <tr style=\"text-align: right;\">\n",
       "      <th></th>\n",
       "      <th>title</th>\n",
       "      <th>selftext</th>\n",
       "      <th>subreddit</th>\n",
       "      <th>created_utc</th>\n",
       "      <th>full_text</th>\n",
       "    </tr>\n",
       "  </thead>\n",
       "  <tbody>\n",
       "  </tbody>\n",
       "</table>\n",
       "</div>"
      ],
      "text/plain": [
       "Empty DataFrame\n",
       "Columns: [title, selftext, subreddit, created_utc, full_text]\n",
       "Index: []"
      ]
     },
     "execution_count": 38,
     "metadata": {},
     "output_type": "execute_result"
    }
   ],
   "source": [
    "#Check dataframe to see if the replace method worked\n",
    "df[df['full_text'].str.contains('askengineer')]"
   ]
  },
  {
   "cell_type": "code",
   "execution_count": 39,
   "id": "ceaf610e",
   "metadata": {},
   "outputs": [
    {
     "data": {
      "text/html": [
       "<div>\n",
       "<style scoped>\n",
       "    .dataframe tbody tr th:only-of-type {\n",
       "        vertical-align: middle;\n",
       "    }\n",
       "\n",
       "    .dataframe tbody tr th {\n",
       "        vertical-align: top;\n",
       "    }\n",
       "\n",
       "    .dataframe thead th {\n",
       "        text-align: right;\n",
       "    }\n",
       "</style>\n",
       "<table border=\"1\" class=\"dataframe\">\n",
       "  <thead>\n",
       "    <tr style=\"text-align: right;\">\n",
       "      <th></th>\n",
       "      <th>title</th>\n",
       "      <th>selftext</th>\n",
       "      <th>subreddit</th>\n",
       "      <th>created_utc</th>\n",
       "      <th>full_text</th>\n",
       "    </tr>\n",
       "  </thead>\n",
       "  <tbody>\n",
       "  </tbody>\n",
       "</table>\n",
       "</div>"
      ],
      "text/plain": [
       "Empty DataFrame\n",
       "Columns: [title, selftext, subreddit, created_utc, full_text]\n",
       "Index: []"
      ]
     },
     "execution_count": 39,
     "metadata": {},
     "output_type": "execute_result"
    }
   ],
   "source": [
    "#Check dataframe to see if the replace method worked\n",
    "df[df['full_text'].str.contains('AskEngineer')]"
   ]
  },
  {
   "cell_type": "markdown",
   "id": "04394076",
   "metadata": {},
   "source": [
    "### Remove spaces, tabs and breaklines"
   ]
  },
  {
   "cell_type": "code",
   "execution_count": 40,
   "id": "f48a40e1",
   "metadata": {},
   "outputs": [],
   "source": [
    "def  clean_text(text):\n",
    "    #substitute non-numeric and non-alphabetic characters with blanks\n",
    "    text = re.sub('[^a-zA-Z0-9]',' ',text)\n",
    "    #Substitue tabs, new-lines and whitespaces with blanks\n",
    "    text = re.sub('\\s+',' ',text).strip()\n",
    "    #Lower case the text and return \n",
    "    return text.lower()"
   ]
  },
  {
   "cell_type": "code",
   "execution_count": 41,
   "id": "2f5d576a",
   "metadata": {},
   "outputs": [],
   "source": [
    "df['full_text'] = df['full_text'].map(clean_text)"
   ]
  },
  {
   "cell_type": "markdown",
   "id": "aafd9430",
   "metadata": {},
   "source": [
    "## Sentiment Analysis"
   ]
  },
  {
   "cell_type": "code",
   "execution_count": 42,
   "id": "7dbb25fd",
   "metadata": {},
   "outputs": [],
   "source": [
    "sia = SentimentIntensityAnalyzer()"
   ]
  },
  {
   "cell_type": "code",
   "execution_count": 43,
   "id": "fda1dbe8",
   "metadata": {},
   "outputs": [
    {
     "data": {
      "text/plain": [
       "0       0.8627\n",
       "1       0.8316\n",
       "2      -0.4957\n",
       "3       0.0000\n",
       "4       0.9423\n",
       "         ...  \n",
       "1991    0.4939\n",
       "1992    0.0772\n",
       "1993   -0.1027\n",
       "1994    0.9341\n",
       "1995    0.3182\n",
       "Name: senti_score_comp, Length: 1996, dtype: float64"
      ]
     },
     "execution_count": 43,
     "metadata": {},
     "output_type": "execute_result"
    }
   ],
   "source": [
    "df['senti_score_comp'] = df['full_text'].map(lambda x: sia.polarity_scores(x)['compound'])\n",
    "df['senti_score_comp']"
   ]
  },
  {
   "cell_type": "markdown",
   "id": "c4be0f99",
   "metadata": {},
   "source": [
    "## Additional columns"
   ]
  },
  {
   "cell_type": "code",
   "execution_count": 44,
   "id": "df607762",
   "metadata": {},
   "outputs": [],
   "source": [
    "#Add column with length of full_text\n",
    "df['full_text_len'] = df['full_text'].map(len)"
   ]
  },
  {
   "cell_type": "code",
   "execution_count": 45,
   "id": "dc90d674",
   "metadata": {},
   "outputs": [],
   "source": [
    "#Add column with word count of full_text\n",
    "df['full_text_word_count'] = df['full_text'].map(lambda x : len(x.split()))"
   ]
  },
  {
   "cell_type": "code",
   "execution_count": 46,
   "id": "1da6a3c0",
   "metadata": {},
   "outputs": [],
   "source": [
    "df.drop(columns='created_utc',inplace=True)"
   ]
  },
  {
   "cell_type": "code",
   "execution_count": 47,
   "id": "df27fd2a",
   "metadata": {},
   "outputs": [
    {
     "data": {
      "text/html": [
       "<div>\n",
       "<style scoped>\n",
       "    .dataframe tbody tr th:only-of-type {\n",
       "        vertical-align: middle;\n",
       "    }\n",
       "\n",
       "    .dataframe tbody tr th {\n",
       "        vertical-align: top;\n",
       "    }\n",
       "\n",
       "    .dataframe thead th {\n",
       "        text-align: right;\n",
       "    }\n",
       "</style>\n",
       "<table border=\"1\" class=\"dataframe\">\n",
       "  <thead>\n",
       "    <tr style=\"text-align: right;\">\n",
       "      <th></th>\n",
       "      <th>title</th>\n",
       "      <th>selftext</th>\n",
       "      <th>subreddit</th>\n",
       "      <th>full_text</th>\n",
       "      <th>senti_score_comp</th>\n",
       "      <th>full_text_len</th>\n",
       "      <th>full_text_word_count</th>\n",
       "    </tr>\n",
       "  </thead>\n",
       "  <tbody>\n",
       "    <tr>\n",
       "      <th>0</th>\n",
       "      <td>ELI5 How do hand-cranked mobile shelving units...</td>\n",
       "      <td>I work in an office where these gigantic shelv...</td>\n",
       "      <td>explainlikeimfive</td>\n",
       "      <td>how do hand cranked mobile shelving units work...</td>\n",
       "      <td>0.8627</td>\n",
       "      <td>445</td>\n",
       "      <td>80</td>\n",
       "    </tr>\n",
       "    <tr>\n",
       "      <th>1</th>\n",
       "      <td>ELI5 What made whale oil desirable as opposed ...</td>\n",
       "      <td>Wasn't sure whether to tag this as biology or ...</td>\n",
       "      <td>explainlikeimfive</td>\n",
       "      <td>what made whale oil desirable as opposed to oi...</td>\n",
       "      <td>0.8316</td>\n",
       "      <td>273</td>\n",
       "      <td>51</td>\n",
       "    </tr>\n",
       "    <tr>\n",
       "      <th>2</th>\n",
       "      <td>ELI5 how is a transistor such a fast switch</td>\n",
       "      <td>Our CPUs have billions of transistors and each...</td>\n",
       "      <td>explainlikeimfive</td>\n",
       "      <td>how is a transistor such a fast switch our cpu...</td>\n",
       "      <td>-0.4957</td>\n",
       "      <td>367</td>\n",
       "      <td>68</td>\n",
       "    </tr>\n",
       "    <tr>\n",
       "      <th>3</th>\n",
       "      <td>ELI5 What is CRISPR exactly and how far could ...</td>\n",
       "      <td></td>\n",
       "      <td>explainlikeimfive</td>\n",
       "      <td>what is crispr exactly and how far could it go...</td>\n",
       "      <td>0.0000</td>\n",
       "      <td>140</td>\n",
       "      <td>27</td>\n",
       "    </tr>\n",
       "    <tr>\n",
       "      <th>4</th>\n",
       "      <td>ELI5: Why can't we customize our phone/mobile ...</td>\n",
       "      <td>Like the title says, I love tech but know next...</td>\n",
       "      <td>explainlikeimfive</td>\n",
       "      <td>why can t we customize our phone mobile hardwa...</td>\n",
       "      <td>0.9423</td>\n",
       "      <td>404</td>\n",
       "      <td>76</td>\n",
       "    </tr>\n",
       "  </tbody>\n",
       "</table>\n",
       "</div>"
      ],
      "text/plain": [
       "                                               title  \\\n",
       "0  ELI5 How do hand-cranked mobile shelving units...   \n",
       "1  ELI5 What made whale oil desirable as opposed ...   \n",
       "2        ELI5 how is a transistor such a fast switch   \n",
       "3  ELI5 What is CRISPR exactly and how far could ...   \n",
       "4  ELI5: Why can't we customize our phone/mobile ...   \n",
       "\n",
       "                                            selftext          subreddit  \\\n",
       "0  I work in an office where these gigantic shelv...  explainlikeimfive   \n",
       "1  Wasn't sure whether to tag this as biology or ...  explainlikeimfive   \n",
       "2  Our CPUs have billions of transistors and each...  explainlikeimfive   \n",
       "3                                                     explainlikeimfive   \n",
       "4  Like the title says, I love tech but know next...  explainlikeimfive   \n",
       "\n",
       "                                           full_text  senti_score_comp  \\\n",
       "0  how do hand cranked mobile shelving units work...            0.8627   \n",
       "1  what made whale oil desirable as opposed to oi...            0.8316   \n",
       "2  how is a transistor such a fast switch our cpu...           -0.4957   \n",
       "3  what is crispr exactly and how far could it go...            0.0000   \n",
       "4  why can t we customize our phone mobile hardwa...            0.9423   \n",
       "\n",
       "   full_text_len  full_text_word_count  \n",
       "0            445                    80  \n",
       "1            273                    51  \n",
       "2            367                    68  \n",
       "3            140                    27  \n",
       "4            404                    76  "
      ]
     },
     "execution_count": 47,
     "metadata": {},
     "output_type": "execute_result"
    }
   ],
   "source": [
    "df.head()"
   ]
  },
  {
   "cell_type": "markdown",
   "id": "903ad7a2",
   "metadata": {},
   "source": [
    "## Exploratory Data Analysis"
   ]
  },
  {
   "cell_type": "code",
   "execution_count": 48,
   "id": "636b9909",
   "metadata": {},
   "outputs": [
    {
     "data": {
      "image/png": "[encoded data removed]",
      "text/plain": [
       "<Figure size 1080x360 with 2 Axes>"
      ]
     },
     "metadata": {
      "needs_background": "light"
     },
     "output_type": "display_data"
    }
   ],
   "source": [
    "#Plot distribution of length of full text for both subreddits to compare\n",
    "\n",
    "fig, axes = plt.subplots(1,2,figsize=(15,5))\n",
    "sns.histplot(df[df['subreddit'] == 'explainlikeimfive']['full_text_len'],ax=axes[0],color='salmon')\n",
    "axes[0].set_xlabel('r/explainlikeimfive Posts')\n",
    "axes[0].set_ylabel('Frequency')\n",
    "\n",
    "sns.histplot(df[df['subreddit'] == 'explainlikeimfive']['full_text_len'],ax=axes[1],color='blue')\n",
    "axes[1].set_xlabel('r/AskEngineers Posts')\n",
    "axes[1].set_ylabel('Frequency')\n",
    "\n",
    "plt.suptitle('Distribution of Text Length of Subreddit Posts')\n",
    "plt.tight_layout();"
   ]
  },
  {
   "cell_type": "markdown",
   "id": "e0b76d3e",
   "metadata": {},
   "source": [
    "The distribution looks fairly similar. No insights comparable insights can be deduced from this. "
   ]
  },
  {
   "cell_type": "code",
   "execution_count": 49,
   "id": "2f228f9f",
   "metadata": {},
   "outputs": [
    {
     "data": {
      "image/png": "[encoded data removed]",
      "text/plain": [
       "<Figure size 1080x360 with 2 Axes>"
      ]
     },
     "metadata": {
      "needs_background": "light"
     },
     "output_type": "display_data"
    }
   ],
   "source": [
    "#Plot distribution of word count of full text for both subreddits to compare\n",
    "\n",
    "fig, axes = plt.subplots(1,2,figsize=(15,5))\n",
    "sns.histplot(df[df['subreddit'] == 'explainlikeimfive']['full_text_word_count'],ax=axes[0],color='salmon')\n",
    "axes[0].set_xlabel('r/explainlikeimfive Posts')\n",
    "axes[0].set_ylabel('Frequency')\n",
    "\n",
    "sns.histplot(df[df['subreddit'] == 'explainlikeimfive']['full_text_word_count'],ax=axes[1],color='blue')\n",
    "axes[1].set_xlabel('r/AskEngineers Posts')\n",
    "axes[1].set_ylabel('Frequency')\n",
    "\n",
    "plt.suptitle('Distribution of Word Count of Subreddit Posts')\n",
    "plt.tight_layout();"
   ]
  },
  {
   "cell_type": "markdown",
   "id": "0a8d273c",
   "metadata": {},
   "source": [
    "Again, there is not a lot of difference between the two distributions. "
   ]
  },
  {
   "cell_type": "code",
   "execution_count": 50,
   "id": "85ad446a",
   "metadata": {},
   "outputs": [
    {
     "data": {
      "image/png": "[encoded data removed]",
      "text/plain": [
       "<Figure size 432x288 with 1 Axes>"
      ]
     },
     "metadata": {
      "needs_background": "light"
     },
     "output_type": "display_data"
    }
   ],
   "source": [
    "sns.histplot(df[df['subreddit'] == 'explainlikeimfive']['senti_score_comp'],bins=30,color='blue', alpha = 0.6,label='r/explainlikeimfive')\n",
    "sns.histplot(df[df['subreddit'] == 'AskEngineers']['senti_score_comp'],bins=30,color='green', alpha = 0.6,label='r/AskEngineers')\n",
    "plt.title('Sentiment Analysis of Subreddit Posts')\n",
    "plt.xlabel('Polarity Scores')\n",
    "plt.ylabel('Frequency')\n",
    "plt.legend()\n",
    "plt.savefig('../images/sentiment_analysis');"
   ]
  },
  {
   "cell_type": "markdown",
   "id": "5ec357a1",
   "metadata": {},
   "source": [
    "The above plot shows the distribution of Polarity Scores. It looks like for r/explainlikeimfive the polarity scores are centerd around 0, with a slight peak around one, which implies the posts from this subreddit are mostly neutral. \n",
    "The polarity scores for r/AskEngineers have an evident peak around 1, with a slight peak at zero.  This implies that posts from this subreddit are majorly positive or neutral. "
   ]
  },
  {
   "cell_type": "markdown",
   "id": "0d4926c3",
   "metadata": {},
   "source": [
    "## Export DataFrame to .csv"
   ]
  },
  {
   "cell_type": "code",
   "execution_count": 51,
   "id": "ec8c5a0e",
   "metadata": {},
   "outputs": [],
   "source": [
    "df.to_csv('../data/complete_clean.csv',index=False)"
   ]
  }
 ],
 "metadata": {
  "kernelspec": {
   "display_name": "Python 3",
   "language": "python",
   "name": "python3"
  },
  "language_info": {
   "codemirror_mode": {
    "name": "ipython",
    "version": 3
   },
   "file_extension": ".py",
   "mimetype": "text/x-python",
   "name": "python",
   "nbconvert_exporter": "python",
   "pygments_lexer": "ipython3",
   "version": "3.8.8"
  }
 },
 "nbformat": 4,
 "nbformat_minor": 5
}
